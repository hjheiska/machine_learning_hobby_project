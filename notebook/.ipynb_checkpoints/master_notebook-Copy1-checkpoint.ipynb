{
 "cells": [
  {
   "cell_type": "markdown",
   "metadata": {
    "_cell_guid": "15a5f5c8-3fdc-4693-919a-2fc9de2ecee2",
    "_uuid": "22217d65c9bfadd0e948a49b74a7ec75cba4437f"
   },
   "source": [
    "# This notebook explores the data (TFRecord format) using a subsample of the YouTube-8M video & frame-level data. To work with the entire dataset, please refer to the Starter code on the [YouTube-8M github repo](https://github.com/google/youtube-8m)."
   ]
  },
  {
   "cell_type": "code",
   "execution_count": 1,
   "metadata": {},
   "outputs": [],
   "source": [
    "%config IPCompleter.greedy=True"
   ]
  },
  {
   "cell_type": "code",
   "execution_count": 2,
   "metadata": {},
   "outputs": [],
   "source": [
    "#### Installation notes ###\n",
    "# To create environment: conda create -n myenv python=3.4 (for python 3.4)\n",
    "# To activate anaconda environment: source activate envName\n",
    "# To list all environments: conda info --envs\n",
    "\n",
    "# Required packages:\n",
    "# pip install sklearn\n",
    "# pip install pandas\n",
    "# pip install scipy\n",
    "# pip install networkx\n",
    "# pip install dict"
   ]
  },
  {
   "cell_type": "code",
   "execution_count": 3,
   "metadata": {
    "_cell_guid": "b1076dfc-b9ad-4769-8c92-a6c4dae69d19",
    "_uuid": "8f2839f25d086af736a60e9eeb907d3b93b6e0e5"
   },
   "outputs": [
    {
     "name": "stdout",
     "output_type": "stream",
     "text": [
      "['video', 'label_names_2018_fixed.csv', '.DS_Store', 'frame', 'models']\n"
     ]
    }
   ],
   "source": [
    "# This Python 3 environment comes with many helpful analytics libraries installed\n",
    "# It is defined by the kaggle/python docker image: https://github.com/kaggle/docker-python\n",
    "# For example, here's several helpful packages to load in \n",
    "\n",
    "import numpy as np # linear algebra\n",
    "import pandas as pd # data processing, CSV file I/O (e.g. pd.read_csv)\n",
    "\n",
    "# Input data files are available in the \"../input/\" directory.\n",
    "# For example, running this (by clicking run or pressing Shift+Enter) will list the files in the input directory\n",
    "\n",
    "import os\n",
    "training_data_dir = \"../training_data/yt8m/v2\"\n",
    "print(os.listdir(training_data_dir))\n",
    "\n",
    "# Any results you write to the current directory are saved as output."
   ]
  },
  {
   "cell_type": "code",
   "execution_count": 4,
   "metadata": {
    "_cell_guid": "79c7e3d0-c299-4dcb-8224-4455121ee9b0",
    "_uuid": "d629ff2d2480ee46fbb7e2d37f6b5fab8052498a"
   },
   "outputs": [
    {
     "name": "stdout",
     "output_type": "stream",
     "text": [
      "['test0397.tfrecord', '2_frame_train_download_plan.json', 'train0434.tfrecord', 'train0274.tfrecord', 'validate0638.tfrecord', 'validate3489.tfrecord', 'validate2094.tfrecord', 'train0208.tfrecord', '2_frame_test_download_plan.json', 'train0580.tfrecord', '2_frame_validate_download_plan.json', 'validate1831.tfrecord', 'validate1704.tfrecord', 'test3134.tfrecord', 'test2108.tfrecord', 'test1553.tfrecord', 'train2161.tfrecord']\n",
      "['2_video_train_download_plan.json', 'test0397.tfrecord', '2_video_test_download_plan.json', 'train0434.tfrecord', '2_video_validate_download_plan.json', 'train0274.tfrecord', 'validate0638.tfrecord', 'validate3489.tfrecord', 'validate2094.tfrecord', 'train0208.tfrecord', 'train0580.tfrecord', 'validate1831.tfrecord', 'validate1704.tfrecord', 'test3134.tfrecord', 'test2108.tfrecord', 'test1553.tfrecord', 'train2161.tfrecord']\n"
     ]
    }
   ],
   "source": [
    "print(os.listdir(training_data_dir + \"/frame\"))\n",
    "print(os.listdir(training_data_dir + \"/video\"))"
   ]
  },
  {
   "cell_type": "code",
   "execution_count": 5,
   "metadata": {
    "_cell_guid": "f22c36cf-f788-4edc-9a88-32c116fa4cb8",
    "_uuid": "d1656e711254f02e2479e2f95704e3dd42949607"
   },
   "outputs": [],
   "source": [
    "#Loading libraries & datasets\n",
    "import tensorflow as tf\n",
    "import numpy as np\n",
    "from IPython.display import YouTubeVideo\n",
    "train_data_id = \"0208\"\n",
    "video_lvl_record = training_data_dir + \"/video/train\" + train_data_id + \".tfrecord\"\n",
    "frame_lvl_record = training_data_dir + \"/frame/train\" + train_data_id + \".tfrecord\""
   ]
  },
  {
   "cell_type": "markdown",
   "metadata": {
    "_cell_guid": "d80e50b4-692b-480d-a3fd-d59cf226de19",
    "_uuid": "8bd33285e392f106994effc1a46644d073dcc5fc"
   },
   "source": [
    "# Let's start with the video-level data"
   ]
  },
  {
   "cell_type": "code",
   "execution_count": 6,
   "metadata": {
    "_cell_guid": "7b19d838-f9db-4e22-8420-16b0d93f16fe",
    "_uuid": "16a62102bef4da3c6f5de8176267f7a5b0e74776"
   },
   "outputs": [],
   "source": [
    "vid_ids = []\n",
    "labels = []\n",
    "mean_rgb = []\n",
    "mean_audio = []\n",
    "\n",
    "for example in tf.python_io.tf_record_iterator(video_lvl_record):\n",
    "    tf_example = tf.train.Example.FromString(example)\n",
    "\n",
    "    vid_ids.append(tf_example.features.feature['id'].bytes_list.value[0].decode(encoding='UTF-8'))\n",
    "    labels.append(tf_example.features.feature['labels'].int64_list.value)\n",
    "    mean_rgb.append(tf_example.features.feature['mean_rgb'].float_list.value)\n",
    "    mean_audio.append(tf_example.features.feature['mean_audio'].float_list.value)"
   ]
  },
  {
   "cell_type": "code",
   "execution_count": 255,
   "metadata": {
    "_cell_guid": "02c8c33e-c5d9-4fe4-ac14-20a3d689f877",
    "_uuid": "d7e308317de941794b45c45d98945d07f669a8f9"
   },
   "outputs": [
    {
     "name": "stdout",
     "output_type": "stream",
     "text": [
      "Number of videos in this tfrecord:  1003\n",
      "Picking a youtube video id: TKdw\n",
      "First 20 features of a youtube video ( TKdw ):\n",
      "[0.16533571481704712, 1.2144172191619873, -0.5543340444564819, -0.4349532425403595, 0.3653770089149475, 0.4413315951824188, -0.024880997836589813, -0.1232917308807373, 0.8965637683868408, -0.5028170347213745, 0.3240147829055786, -1.1154073476791382, -0.5455002188682556, 0.7299590706825256, 0.8589993119239807, 0.6431066393852234, -0.8238077163696289, 0.1251293271780014, 1.1078331470489502, -0.35181596875190735]\n"
     ]
    }
   ],
   "source": [
    "video_id_to_test = 49\n",
    "print('Number of videos in this tfrecord: ',len(mean_rgb))\n",
    "print('Picking a youtube video id:',vid_ids[video_id_to_test])\n",
    "print('First 20 features of a youtube video (',vid_ids[video_id_to_test],'):')\n",
    "print(mean_rgb[video_id_to_test][:20]) # TODO: What does mean_rgb/feature mean?"
   ]
  },
  {
   "cell_type": "markdown",
   "metadata": {
    "_cell_guid": "10154919-12f9-42e7-b1ea-a1b9c5c61247",
    "_uuid": "50ddbae66c152eb53fc8c163e82619438af57084"
   },
   "source": [
    "As described on the [YouTube8M download page](https://research.google.com/youtube8m/video_id_conversion.html), for privacy reasons, the video `id` has been randomly generated and does not directly correspond to the actual YouTube video id. To convert the `id` into the actua YouTube video id, we follow link: [http://data.yt8m.org/2/j/i/1r/1r00.js](http://data.yt8m.org/2/j/i/1r/1r00.js)"
   ]
  },
  {
   "cell_type": "code",
   "execution_count": 256,
   "metadata": {
    "_cell_guid": "17d9feba-98e3-4106-8e7a-9da233c34de5",
    "_uuid": "862f198e022731fcc3a91e03c1bed5497fee35ec"
   },
   "outputs": [
    {
     "data": {
      "image/jpeg": "[encoded data removed]",
      "text/html": [
       "\n",
       "        <iframe\n",
       "            width=\"400\"\n",
       "            height=\"300\"\n",
       "            src=\"https://www.youtube.com/embed/rOcBnlHWs2U\"\n",
       "            frameborder=\"0\"\n",
       "            allowfullscreen\n",
       "        ></iframe>\n",
       "        "
      ],
      "text/plain": [
       "<IPython.lib.display.YouTubeVideo at 0x12e73b860>"
      ]
     },
     "execution_count": 256,
     "metadata": {},
     "output_type": "execute_result"
    }
   ],
   "source": [
    "# Get id\n",
    "import urllib.request\n",
    "import re \n",
    "test_id = vid_ids[video_id_to_test]\n",
    "address_end = test_id[:2] + \"/\" + test_id + \".js\"\n",
    "contents = urllib.request.urlopen(\"http://data.yt8m.org/2/j/i/\" + address_end).read()\n",
    "string_response = contents.decode('UTF-8')\n",
    "string_response\n",
    "youtube_id = re.findall(r'\\\"(\\w.{2,}?)\\\"', string_response)\n",
    "\n",
    "#With that video id, we can play the video\n",
    "YouTubeVideo(youtube_id[1])"
   ]
  },
  {
   "cell_type": "code",
   "execution_count": 257,
   "metadata": {},
   "outputs": [
    {
     "name": "stdout",
     "output_type": "stream",
     "text": [
      "we have 3807 unique labels in the dataset\n"
     ]
    },
    {
     "data": {
      "text/plain": [
       "['Cuisine',\n",
       " 'Cooking show',\n",
       " 'Cooking',\n",
       " 'Food',\n",
       " 'Dish (food)',\n",
       " 'Dessert',\n",
       " 'Recipe',\n",
       " 'Baking',\n",
       " 'Cake']"
      ]
     },
     "execution_count": 257,
     "metadata": {},
     "output_type": "execute_result"
    }
   ],
   "source": [
    "\n",
    "# Check labels\n",
    "from matplotlib import pyplot as plt\n",
    "%matplotlib inline\n",
    "from sklearn.manifold import TSNE\n",
    "import numpy as np\n",
    "labels_2018 = pd.read_csv(training_data_dir + '/label_names_2018_fixed.csv')\n",
    "print(\"we have {} unique labels in the dataset\".format(len(labels_2018['label_name'].unique())))\n",
    "n=20\n",
    "from collections import Counter\n",
    "label_mapping = pd.read_csv(training_data_dir + '/label_names_2018_fixed.csv',header=0,index_col=0,squeeze=True).T\n",
    "\n",
    "\n",
    "#top_n = Counter([item for sublist in labels for item in sublist]).most_common(n)\n",
    "#top_n_labels = [int(i[0]) for i in top_n]\n",
    "#top_n_label_names = [label_mapping[x] for x in top_n_labels]\n",
    "\n",
    "#zipped = list(zip(label_mapping[0:40],labels[video_id_to_test][:40]))\n",
    "zipped = [label_mapping[x] for x in labels[video_id_to_test]]\n",
    "sorted_list = sorted(zipped, key=lambda item: item[1])\n",
    "list(reversed(sorted_list))\n",
    "#label_mapping"
   ]
  },
  {
   "cell_type": "markdown",
   "metadata": {
    "_cell_guid": "4ebf04fd-0507-461b-92c8-a63527736203",
    "_uuid": "1cb1866f0259916ea4a819fdc616baff3841fd77"
   },
   "source": [
    "# Now, let's read the frame-level data"
   ]
  },
  {
   "cell_type": "code",
   "execution_count": 219,
   "metadata": {
    "_cell_guid": "75e41de0-a768-485e-8246-92f40ec06aed",
    "_uuid": "379dc32f4543f99cb1b373e28398aface44031c2"
   },
   "outputs": [],
   "source": [
    "# due to execution time, we're only going to read the first video\n",
    "\n",
    "feat_rgb = []\n",
    "feat_audio = []\n",
    "\n",
    "for example in tf.python_io.tf_record_iterator(frame_lvl_record):        \n",
    "    tf_seq_example = tf.train.SequenceExample.FromString(example)\n",
    "    n_frames = len(tf_seq_example.feature_lists.feature_list['audio'].feature)\n",
    "    sess = tf.InteractiveSession()\n",
    "    rgb_frame = []\n",
    "    audio_frame = []\n",
    "    # iterate through frames\n",
    "    for i in range(n_frames):\n",
    "        rgb_frame.append(tf.cast(tf.decode_raw(\n",
    "                tf_seq_example.feature_lists.feature_list['rgb'].feature[i].bytes_list.value[0],tf.uint8)\n",
    "                       ,tf.float32).eval())\n",
    "        audio_frame.append(tf.cast(tf.decode_raw(\n",
    "                tf_seq_example.feature_lists.feature_list['audio'].feature[i].bytes_list.value[0],tf.uint8)\n",
    "                       ,tf.float32).eval())\n",
    "        \n",
    "        \n",
    "    sess.close()\n",
    "    feat_rgb.append(rgb_frame)\n",
    "    feat_audio.append(audio_frame)\n",
    "    break"
   ]
  },
  {
   "cell_type": "code",
   "execution_count": 214,
   "metadata": {
    "_cell_guid": "c09c3c2f-749f-4ebf-a159-d2efcc9fe1ac",
    "_uuid": "a0922db2db6058deca67cba38204f705010be568"
   },
   "outputs": [
    {
     "name": "stdout",
     "output_type": "stream",
     "text": [
      "The first video has 265 frames\n"
     ]
    }
   ],
   "source": [
    "print('The first video has %d frames' %len(feat_rgb[0]))"
   ]
  },
  {
   "cell_type": "markdown",
   "metadata": {
    "_cell_guid": "f8c087f0-1a4d-49d0-b0ed-d8747d85d17a",
    "_uuid": "612a50a77785f90d916899917c1a961035884450"
   },
   "source": [
    "# Now let's explore the labels\n",
    "\n",
    "First, we'll find the most commonly used labels..."
   ]
  },
  {
   "cell_type": "code",
   "execution_count": 215,
   "metadata": {
    "_cell_guid": "02872613-bef2-4a77-a924-55a0f7b31adb",
    "_uuid": "0abc6b55f0e4a268dc92918b8715c1bc4484b40c"
   },
   "outputs": [],
   "source": [
    "from matplotlib import pyplot as plt\n",
    "%matplotlib inline\n",
    "from sklearn.manifold import TSNE\n",
    "import numpy as np"
   ]
  },
  {
   "cell_type": "code",
   "execution_count": 216,
   "metadata": {
    "_cell_guid": "08cf2a57-6eec-444a-b280-e86a5e026cdf",
    "_uuid": "1367abe58fd3c94d63312773cabdce5af606d794"
   },
   "outputs": [
    {
     "name": "stdout",
     "output_type": "stream",
     "text": [
      "we have 3807 unique labels in the dataset\n"
     ]
    }
   ],
   "source": [
    "labels_2018 = pd.read_csv(training_data_dir + '/label_names_2018_fixed.csv')\n",
    "print(\"we have {} unique labels in the dataset\".format(len(labels_2018['label_name'].unique())))"
   ]
  },
  {
   "cell_type": "code",
   "execution_count": 217,
   "metadata": {
    "_cell_guid": "d159438b-ddcf-4d78-87cb-3e479404f261",
    "_uuid": "44daa93d3c7acb4fed93ef7b11eac2d4718a5f5b"
   },
   "outputs": [],
   "source": [
    "n=20\n",
    "from collections import Counter\n",
    "label_mapping = pd.read_csv(training_data_dir + '/label_names_2018_fixed.csv',header=0,index_col=0,squeeze=True).T.to_dict()\n",
    "\n",
    "top_n = Counter([item for sublist in labels for item in sublist]).most_common(n)\n",
    "top_n_labels = [int(i[0]) for i in top_n]\n",
    "top_n_label_names = [label_mapping[x] for x in top_n_labels]\n",
    "\n",
    "#first_10_label_names = [label_mapping[x] for x in labels_2018[0:10]]\n"
   ]
  },
  {
   "cell_type": "code",
   "execution_count": 218,
   "metadata": {},
   "outputs": [
    {
     "data": {
      "text/plain": [
       "[('Musician', -1.3586759567260742),\n",
       " ('Music video', -1.1990324258804321),\n",
       " ('Game', -0.9111179709434509),\n",
       " ('Vehicle', -0.8362516760826111),\n",
       " ('Musical ensemble', -0.6084442138671875),\n",
       " ('Dance', -0.5129005312919617),\n",
       " ('Racing', -0.4231322407722473),\n",
       " ('Association football', -0.3717953562736511),\n",
       " ('Cartoon', -0.3596741259098053),\n",
       " ('Food', 0.13708166778087616),\n",
       " ('Animation', 0.37002283334732056),\n",
       " ('Guitar', 0.41358789801597595),\n",
       " ('Performance art', 0.4302724003791809),\n",
       " ('Mobile phone', 0.4346930682659149),\n",
       " ('Animal', 0.5872777700424194),\n",
       " ('Car', 0.6690602898597717),\n",
       " ('Motorcycle', 0.7869212627410889),\n",
       " ('Video game', 0.9491315484046936),\n",
       " ('String instrument', 0.9496306777000427),\n",
       " ('Concert', 1.4504506587982178)]"
      ]
     },
     "execution_count": 218,
     "metadata": {},
     "output_type": "execute_result"
    }
   ],
   "source": [
    "mean_rgb_top_n_for_example_video = []\n",
    "labels_for_tsne_for_example_video = []\n",
    "for idx, list_of_nodes in enumerate(labels):\n",
    "    for node in list_of_nodes:\n",
    "        if (node in top_n_labels) and idx == video_id_to_test:\n",
    "            mean_rgb_top_n_for_example_video.append(mean_rgb[idx])\n",
    "            labels_for_tsne_for_example_video.append(node)\n",
    "\n",
    "\n",
    "zipped = list(zip(top_n_label_names[0:20],mean_rgb[video_id_to_test][:20]))\n",
    "sorted_list = sorted(zipped, key=lambda item: item[1])\n",
    "sorted_list\n",
    "#print(top_n_label_names)\n",
    "#print(mean_rgb_top_n[video_id_to_test])\n",
    "#sorted_list\n",
    "#mean_rgb_top_n[video_id_to_test]\n",
    "#mean_rgb_top_n_for_example_video\n"
   ]
  },
  {
   "cell_type": "markdown",
   "metadata": {
    "_cell_guid": "d1687471-951c-4028-a680-386cf22494b1",
    "_uuid": "2d43fd67abda2e0ae7b2058218ca8e2fb57962ca"
   },
   "source": [
    "And plot the relationships between each of these top labels..."
   ]
  },
  {
   "cell_type": "code",
   "execution_count": 206,
   "metadata": {
    "_cell_guid": "0a271ee2-3efc-4aee-b364-b0ece9157b0f",
    "_uuid": "2d5bc349aef74f1a7158b65498662c10010edddf"
   },
   "outputs": [
    {
     "data": {
      "image/png": "[encoded data removed]",
      "text/plain": [
       "<matplotlib.figure.Figure at 0x12c18b518>"
      ]
     },
     "metadata": {},
     "output_type": "display_data"
    }
   ],
   "source": [
    "import networkx as nx\n",
    "from itertools import combinations\n",
    "\n",
    "G=nx.Graph()\n",
    "\n",
    "G.clear()\n",
    "for list_of_nodes in labels:\n",
    "    filtered_nodes = set(list_of_nodes).intersection(set(top_n_labels))  \n",
    "    for node1,node2 in list(combinations(filtered_nodes,2)): \n",
    "        node1_name = label_mapping[node1]\n",
    "        node2_name = label_mapping[node2]\n",
    "        G.add_node(node1_name)\n",
    "        G.add_node(node2_name)\n",
    "        G.add_edge(node1_name, node2_name)\n",
    "\n",
    "nx.draw_networkx(G,font_size=\"10\")\n"
   ]
  },
  {
   "cell_type": "code",
   "execution_count": null,
   "metadata": {},
   "outputs": [],
   "source": []
  },
  {
   "cell_type": "markdown",
   "metadata": {
    "_cell_guid": "66ba94f4-5330-4e29-b42a-52aaa3fcc188",
    "_uuid": "ae6ff68ffbc6e79d7da4e8162927eeb25115ad54"
   },
   "source": [
    "And a t-SNE plot on the data..."
   ]
  },
  {
   "cell_type": "code",
   "execution_count": 201,
   "metadata": {
    "_cell_guid": "2639ecc0-0de8-44c4-88b6-864407e62400",
    "_uuid": "02d9bcaeaa5ad450ce68d43ef620cf59b4f39f60"
   },
   "outputs": [
    {
     "data": {
      "image/png": "[encoded data removed]",
      "text/plain": [
       "<matplotlib.figure.Figure at 0x12c79e940>"
      ]
     },
     "metadata": {},
     "output_type": "display_data"
    }
   ],
   "source": [
    "colors = plt.cm.tab20(np.linspace(0, 1, n))\n",
    "mean_rgb_top_n = []\n",
    "labels_for_tsne = []\n",
    "# filtering mean_rgb so it only contains top n labels\n",
    "for idx, list_of_nodes in enumerate(labels):\n",
    "    for node in list_of_nodes:\n",
    "        if node in top_n_labels:\n",
    "            mean_rgb_top_n.append(mean_rgb[idx])\n",
    "            labels_for_tsne.append(node)\n",
    "\n",
    "\n",
    "#mean_rgb_top_n.append(mean_rgb[video_id_to_test])\n",
    "#label = labels_for_tsne.append(labels[video_id_to_test])\n",
    "#print(labels_for_tsne)\n",
    "#print(mean_rgb_top_n)\n",
    "if 1 == 1:\n",
    "    X_embedded = TSNE(n_components=2, random_state=0).fit_transform(mean_rgb_top_n) \n",
    "\n",
    "\n",
    "    fig = plt.figure()\n",
    "    ax = fig.add_subplot(111)\n",
    "\n",
    "    handles = []\n",
    "    for indx, color in enumerate(colors):\n",
    "        this_label = top_n_labels[indx]\n",
    "        X_embedded_filtered = X_embedded[np.array([x==this_label for x in labels_for_tsne])] # Get only entries where label match current label\n",
    "        handles.append(ax.scatter(X_embedded_filtered[video_id_to_test, 0], X_embedded_filtered[video_id_to_test, 1], c=color, marker=\"o\",edgecolor='none'))\n",
    "\n",
    "    ax.legend(handles, top_n_label_names)\n",
    "\n",
    "    plt.show()\n",
    " \n",
    "\n"
   ]
  },
  {
   "cell_type": "code",
   "execution_count": 207,
   "metadata": {
    "scrolled": false
   },
   "outputs": [
    {
     "data": {
      "text/plain": [
       "[('Musician', -0.8575469851493835),\n",
       " ('Guitar', -0.7494162321090698),\n",
       " ('Vehicle', -0.5644227862358093),\n",
       " ('Cartoon', -0.2309848815202713),\n",
       " ('Car', -0.20536397397518158),\n",
       " ('Dance', -0.10638357698917389),\n",
       " ('Video game', 0.09711968898773193),\n",
       " ('Game', 0.7551589012145996),\n",
       " ('Performance art', 0.8340085744857788),\n",
       " ('Concert', 1.3211196660995483)]"
      ]
     },
     "execution_count": 207,
     "metadata": {},
     "output_type": "execute_result"
    }
   ],
   "source": [
    "mean_rgb_top_n_for_example_video = []\n",
    "labels_for_tsne_for_example_video = []\n",
    "for idx, list_of_nodes in enumerate(labels):\n",
    "    for node in list_of_nodes:\n",
    "        if (node in top_n_labels) and idx == video_id_to_test:\n",
    "            mean_rgb_top_n_for_example_video.append(mean_rgb[idx])\n",
    "            labels_for_tsne_for_example_video.append(node)\n",
    "\n",
    "\n",
    "zipped = list(zip(top_n_label_names[0:20],mean_rgb[video_id_to_test][:20]))\n",
    "sorted_list = sorted(zipped, key=lambda item: item[1])\n",
    "sorted_list\n",
    "#print(top_n_label_names)\n",
    "#print(mean_rgb_top_n[video_id_to_test])\n",
    "#sorted_list\n",
    "#mean_rgb_top_n[video_id_to_test]\n",
    "#mean_rgb_top_n_for_example_video\n"
   ]
  },
  {
   "cell_type": "code",
   "execution_count": null,
   "metadata": {},
   "outputs": [],
   "source": []
  }
 ],
 "metadata": {
  "kernelspec": {
   "display_name": "Python 3",
   "language": "python",
   "name": "python3"
  },
  "language_info": {
   "codemirror_mode": {
    "name": "ipython",
    "version": 3
   },
   "file_extension": ".py",
   "mimetype": "text/x-python",
   "name": "python",
   "nbconvert_exporter": "python",
   "pygments_lexer": "ipython3",
   "version": "3.5.4"
  }
 },
 "nbformat": 4,
 "nbformat_minor": 1
}
